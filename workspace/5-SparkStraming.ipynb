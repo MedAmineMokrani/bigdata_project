{
 "cells": [
  {
   "cell_type": "code",
   "execution_count": null,
   "id": "8b6f2af7",
   "metadata": {},
   "outputs": [],
   "source": [
    "import os\n",
    "from pyspark.sql import SparkSession\n",
    "\n",
    "os.environ['PYSPARK_SUBMIT_ARGS'] = '--packages org.apache.spark:spark-streaming-kafka-0-10_2.12:3.0.0,org.apache.spark:spark-sql-kafka-0-10_2.12:3.0.0,org.apache.spark:spark-token-provider-kafka-0-10_2.12:3.0.0,  pyspark-shell'\n",
    "\n",
    "\n",
    "\n",
    "spark = SparkSession.\\\n",
    "        builder.\\\n",
    "        appName(\"pyspark-notebook\").\\\n",
    "        master(\"spark://spark-master:7077\").\\\n",
    "        config(\"spark.executor.memory\", \"2g\").\\\n",
    "        getOrCreate()"
   ]
  },
  {
   "cell_type": "code",
   "execution_count": null,
   "id": "c764cf45",
   "metadata": {},
   "outputs": [],
   "source": [
    "import pyspark.sql.functions as F\n",
    "from pyspark.sql.types import *\n",
    "from pyspark.sql.window import Window\n",
    "from pyspark.sql.functions import row_number\n",
    "\n",
    "df = spark \\\n",
    "  .readStream \\\n",
    "  .format(\"kafka\") \\\n",
    "  .option(\"kafka.bootstrap.servers\", \"kafka:9092\") \\\n",
    "  .option(\"subscribe\", \"crypto\") \\\n",
    "  .load()\n",
    "\n",
    "json_schema = StructType([\n",
    "    StructField(\"data\", StructType([\n",
    "        StructField(\"id\", StringType()),\n",
    "        StructField(\"rank\", StringType()),\n",
    "        StructField(\"symbol\", StringType()),\n",
    "        StructField(\"name\", StringType()),\n",
    "        StructField(\"supply\", StringType()),\n",
    "        StructField(\"maxSupply\", StringType()),\n",
    "        StructField(\"marketCapUsd\", StringType()),\n",
    "        StructField(\"volumeUsd24Hr\", StringType()),\n",
    "        StructField(\"priceUsd\", StringType()),\n",
    "        StructField(\"previousPriceUsd\", StringType()),\n",
    "        StructField(\"changePercent24Hr\", StringType()),\n",
    "        StructField(\"vwap24Hr\", StringType()),\n",
    "        StructField(\"explorer\", StringType()),\n",
    "        StructField(\"timestamp\", TimestampType())\n",
    "    ]))\n",
    "])\n",
    "\n",
    "\n",
    "df = df.select(\"*\", F.col(\"key\").cast(\"string\").alias(\"key_casted\"), F.col(\"value\").cast(\"string\").alias(\"value_casted\"))\n",
    "\n",
    "\n",
    "df = df.withColumn('value_casted', F.from_json(F.col('value_casted'), json_schema))\n",
    "df = df.select(F.col(\"key_casted\"),F.col(\"value_casted.data.id\"),F.col(\"value_casted.data.rank\"),F.col(\"value_casted.data.symbol\"),F.col(\"value_casted.data.name\"),F.col(\"value_casted.data.supply\"),F.col(\"value_casted.data.maxSupply\"),F.col(\"value_casted.data.marketCapUsd\")\n",
    "               ,F.col(\"value_casted.data.volumeUsd24Hr\"),F.col(\"value_casted.data.priceUsd\"),F.col(\"value_casted.data.previousPriceUsd\"),\n",
    "               F.col(\"value_casted.data.changePercent24Hr\"),F.col(\"value_casted.data.vwap24Hr\"),F.col(\"value_casted.data.explorer\"),F.col(\"value_casted.data.timestamp\"),F.col(\"topic\"),F.col(\"timestamp\").alias(\"kafka_timestamp\"))\n",
    "\n",
    "\n",
    "\n",
    "\n",
    "\n",
    "StreamDF = df \\\n",
    "    .withWatermark(\"timestamp\", \"1 seconds\") \\\n",
    "    .groupBy(\"timestamp\",\"key_casted\",\"topic\",F.window(df.timestamp, \"1 seconds\")) \\\n",
    "    .agg(\n",
    "        F.avg(df.priceUsd).alias('avg_current_price'),\n",
    "        F.avg(df.previousPriceUsd).alias('avg_previous_price')\n",
    "    )\n",
    "\n",
    "StreamDF = StreamDF.withColumn('window_start_time',F.col(\"window.start\").cast(\"string\")) \\\n",
    ".withColumn('window_end_time',F.col(\"window.end\").cast(\"string\")).orderBy(\"timestamp\")\n"
   ]
  },
  {
   "cell_type": "code",
   "execution_count": null,
   "id": "5502baaa",
   "metadata": {},
   "outputs": [],
   "source": [
    "\n",
    "StreamDF.writeStream \\\n",
    ".format(\"console\") \\\n",
    ".outputMode(\"complete\") \\\n",
    ".option(\"truncate\", False) \\\n",
    ".option(\"numRows\",10000) \\\n",
    ".start() \\\n",
    ".awaitTermination()"
   ]
  }
 ],
 "metadata": {
  "kernelspec": {
   "display_name": "Python 3 (ipykernel)",
   "language": "python",
   "name": "python3"
  },
  "language_info": {
   "codemirror_mode": {
    "name": "ipython",
    "version": 3
   },
   "file_extension": ".py",
   "mimetype": "text/x-python",
   "name": "python",
   "nbconvert_exporter": "python",
   "pygments_lexer": "ipython3",
   "version": "3.9.2"
  }
 },
 "nbformat": 4,
 "nbformat_minor": 5
}
