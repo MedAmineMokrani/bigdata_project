{
 "cells": [
  {
   "cell_type": "code",
   "execution_count": 2,
   "id": "7ce40445",
   "metadata": {},
   "outputs": [
    {
     "name": "stderr",
     "output_type": "stream",
     "text": [
      "Warning: Ignoring non-Spark config property: hive.metastore.uris\n",
      "24/01/11 14:41:47 WARN NativeCodeLoader: Unable to load native-hadoop library for your platform... using builtin-java classes where applicable\n",
      "Using Spark's default log4j profile: org/apache/spark/log4j-defaults.properties\n",
      "Setting default log level to \"WARN\".\n",
      "To adjust logging level use sc.setLogLevel(newLevel). For SparkR, use setLogLevel(newLevel).\n"
     ]
    }
   ],
   "source": [
    "import os\n",
    "from pyspark.sql import SparkSession\n",
    "import nbimporter\n",
    "from pyspark.sql.types import StructType, StructField, StringType, LongType, DoubleType, TimestampType\n",
    "import pyspark.sql.functions as F\n",
    "from pyspark.sql.window import Window\n",
    "from pyspark.sql.functions import lag \n",
    "import datetime\n",
    "import time\n",
    "import requests\n",
    "\n",
    "\n",
    "spark = SparkSession\\\n",
    "        .builder \\\n",
    "        .appName(\"pyspark-notebook\") \\\n",
    "        .master(\"spark://spark-master:7077\") \\\n",
    "        .config(\"spark.executor.memory\", \"1g\") \\\n",
    "        .config(\"hive.metastore.uris\", \"thrift://hive:9083\") \\\n",
    "        .config(\"spark.sql.warehouse.dir\",\"/opt/hive/data/warehouse\") \\\n",
    "        .enableHiveSupport() \\\n",
    "        .getOrCreate()\n",
    "\n",
    "\n",
    "\n",
    "    "
   ]
  },
  {
   "cell_type": "code",
   "execution_count": 3,
   "id": "a906822d",
   "metadata": {},
   "outputs": [],
   "source": [
    "from Functions.functions import read_table, create_hive_external_table\n",
    "def calculating_volatility_and_market_cap(spark):\n",
    "    \n",
    "    df = read_table(spark, \"bronze\", \"crypto_data\")\n",
    "    \n",
    "    windowSpec  = Window.partitionBy(\"currency\").orderBy(\"currency\")\n",
    "    \n",
    "    df = df.withColumn(\"priceUsd_lagged\",lag(\"priceUsd\",1).over(windowSpec))\n",
    "    df = df.withColumn(\"market_cap\", F.col(\"priceUsd\") * F.col(\"circulatingsupply\"))\n",
    "    df = df.withColumn(\"volatility\", (F.col(\"priceUsd\") - F.col(\"priceUsd_lagged\")) / F.col(\"priceUsd_lagged\"))\n",
    "    df = df.withColumn(\"volatility_percentage\", (F.col(\"volatility\") * 100))\n",
    "    df = df.select(F.col(\"date\"), F.col(\"time\"), F.col(\"priceusd\").cast(\"double\"), F.col(\"circulatingsupply\").cast(\"double\"), F.col(\"priceusd_lagged\").cast(\"double\"), F.col(\"volatility\"), F.col(\"volatility_percentage\"),F.col(\"market_cap\"), F.col(\"currency\"))\n",
    "    \n",
    "    create_hive_external_table(spark , df, \"silver\", \"crypto_data\", \"currency\")"
   ]
  },
  {
   "cell_type": "code",
   "execution_count": 4,
   "id": "7698e761",
   "metadata": {},
   "outputs": [
    {
     "name": "stderr",
     "output_type": "stream",
     "text": [
      "24/01/11 14:42:23 WARN SessionState: METASTORE_FILTER_HOOK will be ignored, since hive.security.authorization.manager is set to instance of HiveAuthorizerFactory.\n",
      "                                                                                \r"
     ]
    }
   ],
   "source": [
    "calculating_volatility_and_market_cap(spark)"
   ]
  },
  {
   "cell_type": "code",
   "execution_count": 5,
   "id": "4bd89798",
   "metadata": {},
   "outputs": [],
   "source": [
    "spark.stop()"
   ]
  },
  {
   "cell_type": "code",
   "execution_count": null,
   "id": "414916b2",
   "metadata": {},
   "outputs": [],
   "source": []
  }
 ],
 "metadata": {
  "kernelspec": {
   "display_name": "Python 3 (ipykernel)",
   "language": "python",
   "name": "python3"
  },
  "language_info": {
   "codemirror_mode": {
    "name": "ipython",
    "version": 3
   },
   "file_extension": ".py",
   "mimetype": "text/x-python",
   "name": "python",
   "nbconvert_exporter": "python",
   "pygments_lexer": "ipython3",
   "version": "3.9.2"
  }
 },
 "nbformat": 4,
 "nbformat_minor": 5
}
