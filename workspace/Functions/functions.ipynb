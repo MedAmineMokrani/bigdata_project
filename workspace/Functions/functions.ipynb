{
 "cells": [
  {
   "cell_type": "code",
   "execution_count": 7,
   "id": "3a3c6db2",
   "metadata": {},
   "outputs": [],
   "source": [
    "def read_table(spark, database_name, table_name):\n",
    "\n",
    "    df = spark.table(f\"{database_name}.{table_name}\")\n",
    "    \n",
    "    return df\n",
    "\n",
    "def create_hive_external_table(spark, df, database_name, table_name, partition_column_name):\n",
    "    \n",
    "    spark.sql(f\"CREATE DATABASE IF NOT EXISTS {database_name}\")\n",
    "    df.write.partitionBy(partition_column_name).mode(\"overwrite\").option('path',f'hdfs://namenode:8020/user/admin/hive/{database_name}/{table_name}').saveAsTable(f'{database_name}.{table_name}')\n",
    "    \n",
    "def calculating_volatility(spark):\n",
    "    \n",
    "    df = read_table(spark, \"bronze\", \"cryptodata_raw\")\n",
    "    \n",
    "    windowSpec  = Window.partitionBy(\"currency\").orderBy(\"currency\")\n",
    "\n",
    "\n",
    "    df = df.withColumn(\"priceUsd_lagged\",lag(\"priceUsd\",1).over(windowSpec))\n",
    "    df = df.withColumn(\"volatility\", (F.col(\"priceUsd\") - F.col(\"priceUsd_lagged\")) / F.col(\"priceUsd_lagged\"))\n",
    "    df = df.withColumn(\"volatility_percentage\", (F.col(\"volatility\") * 100))\n",
    "    df = df.select(F.col(\"date\"), F.col(\"time\"), F.col(\"priceusd\").cast(\"double\"), F.col(\"circulatingsupply\").cast(\"double\"), F.col(\"priceusd_lagged\").cast(\"double\"), F.col(\"volatility\"), F.col(\"volatility_percentage\"), F.col(\"currency\"))\n",
    "    \n",
    "    create_table_in_hdfs(spark , df, \"silver\", \"silver_data\", \"currency\")"
   ]
  }
 ],
 "metadata": {
  "kernelspec": {
   "display_name": "Python 3 (ipykernel)",
   "language": "python",
   "name": "python3"
  },
  "language_info": {
   "codemirror_mode": {
    "name": "ipython",
    "version": 3
   },
   "file_extension": ".py",
   "mimetype": "text/x-python",
   "name": "python",
   "nbconvert_exporter": "python",
   "pygments_lexer": "ipython3",
   "version": "3.9.2"
  }
 },
 "nbformat": 4,
 "nbformat_minor": 5
}
